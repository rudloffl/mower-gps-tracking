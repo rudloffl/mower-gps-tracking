{
 "cells": [
  {
   "cell_type": "markdown",
   "metadata": {},
   "source": [
    "# Main source\n",
    "Main Tutorial   \n",
    "https://raspberry-pi.developpez.com/cours-tutoriels/projets-rpi-zero/traceur-gps/\n",
    "\n",
    "NMEA  \n",
    "http://www.gpsinformation.org/dale/nmea.htm"
   ]
  },
  {
   "cell_type": "code",
   "execution_count": 1,
   "metadata": {},
   "outputs": [],
   "source": [
    "import serial\n",
    "import os\n",
    "import time"
   ]
  },
  {
   "cell_type": "code",
   "execution_count": 10,
   "metadata": {},
   "outputs": [],
   "source": [
    "time.sleep(1)"
   ]
  },
  {
   "cell_type": "code",
   "execution_count": 4,
   "metadata": {},
   "outputs": [
    {
     "name": "stdout",
     "output_type": "stream",
     "text": [
      "b'$GPRMC,185033.000,A,3315.2522,N,08736.8491,W,0.00,120.21,050818,,,D*7C\\r\\n'\n",
      "b'$GPRMC,185034.000,A,3315.2522,N,08736.8491,W,0.00,120.21,050818,,,D*7B\\r\\n'\n",
      "b'$GPRMC,185037.000,A,3315.2522,N,08736.8491,W,0.00,120.21,050818,,,D*78\\r\\n'\n",
      "b'$GPRMC,185038.000,A,3315.2522,N,08736.8491,W,0.00,120.21,050818,,,D*77\\r\\n'\n",
      "b'$GPRMC,185039.000,A,3315.2522,N,08736.8491,W,0.00,120.21,050818,,,D*76\\r\\n'\n"
     ]
    }
   ],
   "source": [
    "ser = serial.Serial(\n",
    "    port='/dev/cu.usbserial',\n",
    "    baudrate=4800,\n",
    "    parity=serial.PARITY_NONE,\n",
    "    stopbits=serial.STOPBITS_ONE,\n",
    "    bytesize=serial.EIGHTBITS,\n",
    "    timeout=1)\n",
    "\n",
    "for x in range(50):\n",
    "    gpsentry = ser.readline()\n",
    "    #print(gpsentry)\n",
    "    if b'GPRMC' in gpsentry:\n",
    "        print(gpsentry)\n",
    "    #time.sleep(1)\n",
    "\n",
    "ser.close()"
   ]
  },
  {
   "cell_type": "code",
   "execution_count": null,
   "metadata": {},
   "outputs": [],
   "source": [
    "ser.readline()"
   ]
  },
  {
   "cell_type": "code",
   "execution_count": null,
   "metadata": {},
   "outputs": [],
   "source": []
  },
  {
   "cell_type": "code",
   "execution_count": null,
   "metadata": {},
   "outputs": [],
   "source": []
  },
  {
   "cell_type": "code",
   "execution_count": 1,
   "metadata": {},
   "outputs": [],
   "source": [
    "import time\n"
   ]
  },
  {
   "cell_type": "code",
   "execution_count": 4,
   "metadata": {},
   "outputs": [
    {
     "data": {
      "text/plain": [
       "1533521407.189697"
      ]
     },
     "execution_count": 4,
     "metadata": {},
     "output_type": "execute_result"
    }
   ],
   "source": [
    "time.time()"
   ]
  },
  {
   "cell_type": "code",
   "execution_count": 5,
   "metadata": {},
   "outputs": [
    {
     "data": {
      "text/plain": [
       "1533521410.89056"
      ]
     },
     "execution_count": 5,
     "metadata": {},
     "output_type": "execute_result"
    }
   ],
   "source": [
    "time.time()"
   ]
  },
  {
   "cell_type": "code",
   "execution_count": 10,
   "metadata": {},
   "outputs": [
    {
     "data": {
      "text/plain": [
       "2"
      ]
     },
     "execution_count": 10,
     "metadata": {},
     "output_type": "execute_result"
    }
   ],
   "source": [
    "112 % 10"
   ]
  },
  {
   "cell_type": "code",
   "execution_count": null,
   "metadata": {},
   "outputs": [],
   "source": []
  }
 ],
 "metadata": {
  "kernelspec": {
   "display_name": "Python 3",
   "language": "python",
   "name": "python3"
  },
  "language_info": {
   "codemirror_mode": {
    "name": "ipython",
    "version": 3
   },
   "file_extension": ".py",
   "mimetype": "text/x-python",
   "name": "python",
   "nbconvert_exporter": "python",
   "pygments_lexer": "ipython3",
   "version": "3.6.4"
  }
 },
 "nbformat": 4,
 "nbformat_minor": 2
}
